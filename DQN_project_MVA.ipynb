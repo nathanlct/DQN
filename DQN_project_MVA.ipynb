{
 "cells": [
  {
   "cell_type": "markdown",
   "metadata": {},
   "source": [
    "**You may need to install [OpenCV](https://pypi.python.org/pypi/opencv-python) and [scikit-video](http://www.scikit-video.org/stable/).**"
   ]
  },
  {
   "cell_type": "code",
   "execution_count": 1,
   "metadata": {},
   "outputs": [
    {
     "name": "stderr",
     "output_type": "stream",
     "text": [
      "Using TensorFlow backend.\n"
     ]
    }
   ],
   "source": [
    "import keras\n",
    "import numpy as np\n",
    "import io\n",
    "import base64\n",
    "from IPython.display import HTML\n",
    "import skvideo.io\n",
    "import cv2\n",
    "import json\n",
    "\n",
    "from keras.models import Sequential,model_from_json\n",
    "from keras.layers.core import Dense\n",
    "from keras.optimizers import sgd, Adam\n",
    "from keras.layers import Conv2D, MaxPooling2D, Activation, AveragePooling2D,Reshape,BatchNormalization"
   ]
  },
  {
   "cell_type": "markdown",
   "metadata": {},
   "source": [
    "# MiniProject on Deep Reinforcement Learning"
   ]
  },
  {
   "cell_type": "markdown",
   "metadata": {},
   "source": [
    "__Notations__: $E_p$ is the expectation under probability $p$. Please justify each of your answer and widely comment your code."
   ]
  },
  {
   "cell_type": "markdown",
   "metadata": {},
   "source": [
    "# Context"
   ]
  },
  {
   "cell_type": "markdown",
   "metadata": {},
   "source": [
    "In a reinforcement learning algorithm, we modelize each step $t$ as an action $a_t$ obtained from a state $s_t$, i.e. $\\{(a_{t},s_{t})_{t\\leq T}\\}$ having the Markov property. We consider a discount factor $\\gamma \\in [0,1]$ that ensures convergence. The goal is to find among all the policies $\\pi$, one that maximizes the expected reward:\n",
    "\n",
    "\\begin{equation*}\n",
    "R(\\pi)=\\sum_{t\\leq T}E_{p^{\\pi}}[\\gamma^t r(s_{t},a_{t})] \\> ,\n",
    "\\end{equation*}\n",
    "\n",
    "where: \n",
    "\\begin{equation*}p^{\\pi}(a_{0},a_{1},s_{1},...,a_{T},s_{T})=p(a_{0})\\prod_{t=1}^{T}\\pi(a_{t}|s_{t})p(s_{t+1}|s_{t},a_{t}) \\> .\n",
    "\\end{equation*}\n",
    "\n",
    "We note the $Q$-function:\n",
    "\n",
    "\\begin{equation*}Q^\\pi(s,a)=E_{p^{\\pi}}[\\sum_{t\\leq T}\\gamma^{t}r(s_{t},a_{t})|s_{0}=s,a_{0}=a] \\> .\n",
    "\\end{equation*}\n",
    "\n",
    "Thus, the optimal Q function is:\n",
    "\\begin{equation*}\n",
    "Q^*(s,a)=\\max_{\\pi}Q^\\pi(s,a) \\> .\n",
    "\\end{equation*}\n",
    "\n",
    "In this project, we will apply the deep reinforcement learning techniques to a simple game: an agent will have to learn from scratch a policy that will permit it maximizing a reward."
   ]
  },
  {
   "cell_type": "markdown",
   "metadata": {},
   "source": [
    "## The environment, the agent and the game"
   ]
  },
  {
   "cell_type": "markdown",
   "metadata": {},
   "source": [
    "### The environment"
   ]
  },
  {
   "cell_type": "markdown",
   "metadata": {},
   "source": [
    "```Environment``` is an abstract class that represents the states, rewards, and actions to obtain the new state."
   ]
  },
  {
   "cell_type": "code",
   "execution_count": 2,
   "metadata": {},
   "outputs": [],
   "source": [
    "class Environment(object):\n",
    "    def __init__(self):\n",
    "        pass\n",
    "\n",
    "    def act(self, act):\n",
    "        \"\"\"\n",
    "        One can act on the environment and obtain its reaction:\n",
    "        - the new state\n",
    "        - the reward of the new state\n",
    "        - should we continue the game?\n",
    "\n",
    "        :return: state, reward, game_over\n",
    "        \"\"\"\n",
    "        pass\n",
    "\n",
    "\n",
    "    def reset(self):\n",
    "        \"\"\"\n",
    "        Reinitialize the environment to a random state and returns\n",
    "        the original state\n",
    "\n",
    "        :return: state\n",
    "        \"\"\"\n",
    "        pass\n",
    "    \n",
    "    def draw(self):\n",
    "        \"\"\"\n",
    "        Visualize in the console or graphically the current state\n",
    "        \"\"\"\n",
    "        pass"
   ]
  },
  {
   "cell_type": "markdown",
   "metadata": {},
   "source": [
    "The method ```act``` allows to act on the environment at a given state $s_t$ (stored internally), via action $a_t$. The method will return the new state $s_{t+1}$, the reward $r(s_{t},a_{t})$ and determines if $t\\leq T$ (*game_over*).\n",
    "\n",
    "The method ```reset``` simply reinitializes the environment to a random state $s_0$.\n",
    "\n",
    "The method ```draw``` displays the current state $s_t$ (this is useful to check the behavior of the Agent).\n",
    "\n",
    "We modelize $s_t$ as a tensor, while $a_t$ is an integer."
   ]
  },
  {
   "cell_type": "markdown",
   "metadata": {},
   "source": [
    "### The Agent"
   ]
  },
  {
   "cell_type": "markdown",
   "metadata": {},
   "source": [
    "The goal of the ```Agent``` is to interact with the ```Environment``` by proposing actions $a_t$ obtained from a given state $s_t$ to attempt to maximize its __reward__ $r(s_t,a_t)$. We propose the following abstract class:"
   ]
  },
  {
   "cell_type": "code",
   "execution_count": 3,
   "metadata": {},
   "outputs": [],
   "source": [
    "class Agent(object):\n",
    "    def __init__(self, epsilon=0.1, n_action=4):\n",
    "        self.epsilon = epsilon\n",
    "        self.n_action = n_action\n",
    "    \n",
    "    def set_epsilon(self,e):\n",
    "        self.epsilon = e\n",
    "\n",
    "    def act(self,s,train=True):\n",
    "        \"\"\" This function should return the next action to do:\n",
    "        an integer between 0 and 4 (not included) with a random exploration of epsilon\"\"\"\n",
    "        if train:\n",
    "            if np.random.rand() <= self.epsilon:\n",
    "                a = np.random.randint(0, self.n_action, size=1)[0]\n",
    "            else:\n",
    "                a = self.learned_act(s)\n",
    "        else: # in some cases, this can improve the performance.. remove it if poor performances\n",
    "            a = self.learned_act(s)\n",
    "\n",
    "        return a\n",
    "\n",
    "    def learned_act(self,s):\n",
    "        \"\"\" Act via the policy of the agent, from a given state s\n",
    "        it proposes an action a\"\"\"\n",
    "        pass\n",
    "\n",
    "    def reinforce(self, s, n_s, a, r, game_over_):\n",
    "        \"\"\" This function is the core of the learning algorithm. \n",
    "        It takes as an input the current state s_, the next state n_s_\n",
    "        the action a_ used to move from s_ to n_s_ and the reward r_.\n",
    "        \n",
    "        Its goal is to learn a policy.\n",
    "        \"\"\"\n",
    "        pass\n",
    "\n",
    "    def save(self):\n",
    "        \"\"\" This function returns basic stats if applicable: the\n",
    "        loss and/or the model\"\"\"\n",
    "        pass\n",
    "\n",
    "    def load(self):\n",
    "        \"\"\" This function allows to restore a model\"\"\"\n",
    "        pass"
   ]
  },
  {
   "cell_type": "markdown",
   "metadata": {},
   "source": [
    "***\n",
    "__Question 1__:\n",
    "Explain the function act. Why is ```epsilon``` essential?"
   ]
  },
  {
   "cell_type": "markdown",
   "metadata": {},
   "source": [
    "The function `act` takes as input the current state tensor $s$ and outputs an integer action $0 < a < \\text{n_action}$.\n",
    "\n",
    "The $\\varepsilon$ corresponds to the exploitation/exploration rate. For instance, if $\\varepsilon = 5\\%$, then the algorithm will pick a random action with a probability $0.05$ and explore the state space, or exploit the current policy to get the currently-best action with probability $0.95$. \n",
    "\n",
    "This is an essential part of the algorithm since an algorithm without exploration could miss out on a lot of potentially rewarding states by only going through the states it already knows, while an algorithm without exploitation will return a random policy. This leads to the famous exploration-exploitation dilemma which consists in finding an appropriate $\\varepsilon$ rate, as a trade-off between exploration and exploitation.\n",
    "\n"
   ]
  },
  {
   "cell_type": "markdown",
   "metadata": {},
   "source": [
    "***\n",
    "### The Game"
   ]
  },
  {
   "cell_type": "markdown",
   "metadata": {},
   "source": [
    "The ```Agent``` and the ```Environment``` work in an interlaced way as in the following (take some time to understand this code as it is the core of the project)\n",
    "\n",
    "```python\n",
    "\n",
    "epoch = 300\n",
    "env = Environment()\n",
    "agent = Agent()\n",
    "\n",
    "\n",
    "# Number of won games\n",
    "score = 0\n",
    "loss = 0\n",
    "\n",
    "\n",
    "for e in range(epoch):\n",
    "    # At each epoch, we restart to a fresh game and get the initial state\n",
    "    state = env.reset()\n",
    "    # This assumes that the games will end\n",
    "    game_over = False\n",
    "\n",
    "    win = 0\n",
    "    lose = 0\n",
    "    \n",
    "    while not game_over:\n",
    "        # The agent performs an action\n",
    "        action = agent.act(state)\n",
    "\n",
    "        # Apply an action to the environment, get the next state, the reward\n",
    "        # and if the games end\n",
    "        prev_state = state\n",
    "        state, reward, game_over = env.act(action)\n",
    "\n",
    "        # Update the counters\n",
    "        if reward > 0:\n",
    "            win = win + reward\n",
    "        if reward < 0:\n",
    "            lose = lose -reward\n",
    "\n",
    "        # Apply the reinforcement strategy\n",
    "        loss = agent.reinforce(prev_state, state,  action, reward, game_over)\n",
    "\n",
    "    # Save as a mp4\n",
    "    if e % 10 == 0:\n",
    "        env.draw(e)\n",
    "\n",
    "    # Update stats\n",
    "    score += win-lose\n",
    "\n",
    "    print(\"Epoch {:03d}/{:03d} | Loss {:.4f} | Win/lose count {}/{} ({})\"\n",
    "          .format(e, epoch, loss, win, lose, win-lose))\n",
    "    agent.save()\n",
    "```"
   ]
  },
  {
   "cell_type": "markdown",
   "metadata": {},
   "source": [
    "# The game, *eat cheese*"
   ]
  },
  {
   "cell_type": "markdown",
   "metadata": {},
   "source": [
    "A rat runs on an island and tries to eat as much as possible. The island is subdivided into $N\\times N$ cells, in which there are cheese (+0.5) and poisonous cells (-1). The rat has a visibility of 2 cells (thus it can see $5^2$ cells). The rat is given a time $T$ to accumulate as much food as possible. It can perform 4 actions: going up, down, left, right. \n",
    "\n",
    "The goal is to code an agent to solve this task that will learn by trial and error. We propose the following environment:"
   ]
  },
  {
   "cell_type": "code",
   "execution_count": 4,
   "metadata": {},
   "outputs": [],
   "source": [
    "class Environment(object):\n",
    "    def __init__(self, grid_size=10, max_time=500, temperature=0.1):\n",
    "        grid_size = grid_size+4\n",
    "        self.grid_size = grid_size\n",
    "        self.max_time = max_time\n",
    "        self.temperature = temperature\n",
    "\n",
    "        #board on which one plays\n",
    "        self.board = np.zeros((grid_size,grid_size))\n",
    "        self.position = np.zeros((grid_size,grid_size))\n",
    "\n",
    "        # coordinate of the cat\n",
    "        self.x = 0\n",
    "        self.y = 1\n",
    "\n",
    "        # self time\n",
    "        self.t = 0\n",
    "\n",
    "        self.scale=16\n",
    "\n",
    "        self.to_draw = np.zeros((max_time+2, grid_size*self.scale, grid_size*self.scale, 3))\n",
    "\n",
    "\n",
    "    def draw(self,e):\n",
    "        skvideo.io.vwrite(str(e) + '.mp4', self.to_draw)\n",
    "\n",
    "    def get_frame(self,t):\n",
    "        b = np.zeros((self.grid_size,self.grid_size,3))+128\n",
    "        b[self.board>0,0] = 256\n",
    "        b[self.board < 0, 2] = 256\n",
    "        b[self.x,self.y,:]=256\n",
    "        b[-2:,:,:]=0\n",
    "        b[:,-2:,:]=0\n",
    "        b[:2,:,:]=0\n",
    "        b[:,:2,:]=0\n",
    "        \n",
    "        b =  cv2.resize(b, None, fx=self.scale, fy=self.scale, interpolation=cv2.INTER_NEAREST)\n",
    "\n",
    "        self.to_draw[t,:,:,:]=b\n",
    "\n",
    "\n",
    "    def act(self, action):\n",
    "        \"\"\"This function returns the new state, reward and decides if the\n",
    "        game ends.\"\"\"\n",
    "\n",
    "        self.get_frame(int(self.t))\n",
    "\n",
    "        self.position = np.zeros((self.grid_size, self.grid_size))\n",
    "\n",
    "        self.position[0:2,:]= -1\n",
    "        self.position[:,0:2] = -1\n",
    "        self.position[-2:, :] = -1\n",
    "        self.position[-2:, :] = -1\n",
    "\n",
    "        self.position[self.x, self.y] = 1\n",
    "        if action == 0:\n",
    "            if self.x == self.grid_size-3:\n",
    "                self.x = self.x-1\n",
    "            else:\n",
    "                self.x = self.x + 1\n",
    "        elif action == 1:\n",
    "            if self.x == 2:\n",
    "                self.x = self.x+1\n",
    "            else:\n",
    "                self.x = self.x-1\n",
    "        elif action == 2:\n",
    "            if self.y == self.grid_size - 3:\n",
    "                self.y = self.y - 1\n",
    "            else:\n",
    "                self.y = self.y + 1\n",
    "        elif action == 3:\n",
    "            if self.y == 2:\n",
    "                self.y = self.y + 1\n",
    "            else:\n",
    "                self.y = self.y - 1\n",
    "        else:\n",
    "            RuntimeError('Error: action not recognized')\n",
    "\n",
    "        self.t = self.t + 1\n",
    "        reward = self.board[self.x, self.y]\n",
    "        self.board[self.x, self.y] = 0\n",
    "        game_over = self.t > self.max_time\n",
    "        state = np.concatenate((self.board.reshape(self.grid_size, self.grid_size,1),\n",
    "                        self.position.reshape(self.grid_size, self.grid_size,1)),axis=2)\n",
    "        state = state[self.x-2:self.x+3,self.y-2:self.y+3,:]\n",
    "\n",
    "        return state, reward, game_over\n",
    "\n",
    "    def reset(self):\n",
    "        \"\"\"This function resets the game and returns the initial state\"\"\"\n",
    "\n",
    "        self.x = np.random.randint(3, self.grid_size-3, size=1)[0]\n",
    "        self.y = np.random.randint(3, self.grid_size-3, size=1)[0]\n",
    "\n",
    "\n",
    "        bonus = 0.5*np.random.binomial(1,self.temperature,size=self.grid_size**2)\n",
    "        bonus = bonus.reshape(self.grid_size,self.grid_size)\n",
    "\n",
    "        malus = -1.0*np.random.binomial(1,self.temperature,size=self.grid_size**2)\n",
    "        malus = malus.reshape(self.grid_size, self.grid_size)\n",
    "\n",
    "        self.to_draw = np.zeros((self.max_time+2, self.grid_size*self.scale, self.grid_size*self.scale, 3))\n",
    "\n",
    "\n",
    "        malus[bonus>0]=0\n",
    "\n",
    "        self.board = bonus + malus\n",
    "\n",
    "        self.position = np.zeros((self.grid_size, self.grid_size))\n",
    "        self.position[0:2,:]= -1\n",
    "        self.position[:,0:2] = -1\n",
    "        self.position[-2:, :] = -1\n",
    "        self.position[-2:, :] = -1\n",
    "        self.board[self.x,self.y] = 0\n",
    "        self.t = 0\n",
    "\n",
    "        state = np.concatenate((\n",
    "                               self.board.reshape(self.grid_size, self.grid_size,1),\n",
    "                        self.position.reshape(self.grid_size, self.grid_size,1)),axis=2)\n",
    "\n",
    "        state = state[self.x - 2:self.x + 3, self.y - 2:self.y + 3, :]\n",
    "        return state"
   ]
  },
  {
   "cell_type": "markdown",
   "metadata": {},
   "source": [
    "The following elements are important because they correspond to the hyper parameters for this project:"
   ]
  },
  {
   "cell_type": "code",
   "execution_count": 5,
   "metadata": {},
   "outputs": [],
   "source": [
    "# parameters\n",
    "size = 13\n",
    "T=200\n",
    "temperature=0.3\n",
    "epochs_train=60 # set small when debugging\n",
    "epochs_test=10 # set small when debugging\n",
    "\n",
    "# display videos\n",
    "def display_videos(name):\n",
    "    video = io.open(name, 'r+b').read()\n",
    "    encoded = base64.b64encode(video)\n",
    "    return '''<video alt=\"test\" controls>\n",
    "                <source src=\"data:video/mp4;base64,{0}\" type=\"video/mp4\" />\n",
    "             </video>'''.format(encoded.decode('ascii'))"
   ]
  },
  {
   "cell_type": "markdown",
   "metadata": {},
   "source": [
    "__Question 2__ Explain the use of the arrays ```position``` and ```board```."
   ]
  },
  {
   "cell_type": "markdown",
   "metadata": {},
   "source": [
    "The array `board` is of size $(N+4)\\times(N+4)$, the additional border of size $2$ being used as padding for the $5\\times 5$ state matrix. The board contains zeros everywhere, except on the locations of bonuses and maluses where the boards contains respectively $0.5$ and $-1.0$ (if there is both a bonus and a malus on one case during generation, then only the bonus is kept). Each time the agent goes on a case, the value of this case in the array becomes $0$. \n",
    "\n",
    "The `state` array is of the same size as `board`. It contains $0$s everywhere except at the position of the agent which is set to $1$, and in the padding border of size $2$ where it is set to $-1$.\n",
    "\n",
    "These two arrays are then concatenated element-wise to form the state tensor. "
   ]
  },
  {
   "cell_type": "markdown",
   "metadata": {},
   "source": [
    "## Random Agent"
   ]
  },
  {
   "cell_type": "markdown",
   "metadata": {},
   "source": [
    "***\n",
    "__Question 3__ Implement a random Agent (only ```learned_act``` needs to be implemented):"
   ]
  },
  {
   "cell_type": "code",
   "execution_count": 6,
   "metadata": {},
   "outputs": [],
   "source": [
    "class RandomAgent(Agent):\n",
    "    def __init__(self):\n",
    "        super(RandomAgent, self).__init__()\n",
    "        pass\n",
    "\n",
    "    def learned_act(self, s):\n",
    "        return np.random.randint(self.n_action)\n",
    "\n",
    "# we could also set epsilon to 1"
   ]
  },
  {
   "cell_type": "markdown",
   "metadata": {},
   "source": [
    "***\n",
    "***\n",
    "__Question 4__ Visualize the game moves. You need to fill in the following function for the evaluation:"
   ]
  },
  {
   "cell_type": "code",
   "execution_count": 7,
   "metadata": {},
   "outputs": [],
   "source": [
    "def test(agent,env,epochs,prefix=''):\n",
    "    # Number of won games\n",
    "    score = 0\n",
    "        \n",
    "    for e in range(epochs):        \n",
    "        win = 0\n",
    "        lose = 0\n",
    "        \n",
    "        done = False\n",
    "        state = env.reset()\n",
    "        while not done:\n",
    "            action = agent.act(state, train=False)\n",
    "            state, reward, done = env.act(action)\n",
    "            if reward > 0:\n",
    "                win += reward\n",
    "            elif reward < 0:\n",
    "                lose -= reward\n",
    "                \n",
    "        # Save as a mp4\n",
    "        env.draw(prefix+str(e))\n",
    "\n",
    "        # Update stats\n",
    "        score = score + win-lose\n",
    "\n",
    "        print(\"Win/lose count {}/{}. Average score ({})\"\n",
    "              .format(win, lose, score/(1+e)))\n",
    "    print('Final score: '+str(score/epochs))"
   ]
  },
  {
   "cell_type": "code",
   "execution_count": 8,
   "metadata": {},
   "outputs": [
    {
     "name": "stdout",
     "output_type": "stream",
     "text": [
      "Win/lose count 10.0/12.0. Average score (-2.0)\n",
      "Win/lose count 8.0/14.0. Average score (-4.0)\n",
      "Win/lose count 6.5/10.0. Average score (-3.8333333333333335)\n",
      "Win/lose count 9.5/11.0. Average score (-3.25)\n",
      "Win/lose count 9.5/18.0. Average score (-4.3)\n",
      "Win/lose count 9.0/17.0. Average score (-4.916666666666667)\n",
      "Win/lose count 9.5/18.0. Average score (-5.428571428571429)\n",
      "Win/lose count 12.0/17.0. Average score (-5.375)\n",
      "Win/lose count 9.0/13.0. Average score (-5.222222222222222)\n",
      "Win/lose count 8.0/9.0. Average score (-4.8)\n",
      "Final score: -4.8\n"
     ]
    },
    {
     "data": {
      "text/html": [
       "<video alt=\"test\" controls>\n",
       "                <source src=\"data:video/mp4;base64,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\" type=\"video/mp4\" />\n",
       "             </video>"
      ],
      "text/plain": [
       "<IPython.core.display.HTML object>"
      ]
     },
     "execution_count": 8,
     "metadata": {},
     "output_type": "execute_result"
    }
   ],
   "source": [
    "# Initialize the game\n",
    "env = Environment(grid_size=size, max_time=T,temperature=temperature)\n",
    "\n",
    "# Initialize the agent!\n",
    "agent = RandomAgent()\n",
    "\n",
    "test(agent,env,epochs_test,prefix='random')\n",
    "HTML(display_videos('random0.mp4'))"
   ]
  },
  {
   "cell_type": "markdown",
   "metadata": {},
   "source": [
    "***\n",
    "## DQN"
   ]
  },
  {
   "cell_type": "markdown",
   "metadata": {},
   "source": [
    "Let us assume here that $T=\\infty$.\n",
    "\n",
    "***\n",
    "__Question 5__ Let $\\pi$ be a policy, show that:\n",
    "\n",
    "\\begin{equation*}\n",
    "Q^{\\pi}(s,a)=E_{(s',a')\\sim p(.|s,a)}[r(s,a)+\\gamma Q^{\\pi}(s',a')]\n",
    "\\end{equation*}\n",
    "\n",
    "Then, show that for the optimal policy $\\pi^*$ (we assume its existence), the following holds: \n",
    "\n",
    "\\begin{equation*}\n",
    "Q^{*}(s,a)=E_{s'\\sim \\pi^*(.|s,a)}[r(s,a)+\\gamma\\max_{a'}Q^{*}(s',a')].\n",
    "\\end{equation*}\n",
    "Finally, deduce that a plausible objective is:\n",
    "\n",
    "\\begin{equation*}\n",
    "\\mathcal{L}(\\theta)=E_{s' \\sim \\pi^*(.|s,a)}\\Vert r+\\gamma\\max_{a'}Q(s',a',\\theta)-Q(s,a,\\theta)\\Vert^{2}.\n",
    "\\end{equation*}\n",
    "\n",
    "\n"
   ]
  },
  {
   "cell_type": "markdown",
   "metadata": {},
   "source": [
    "$\\bullet$ By definition, \n",
    "\n",
    "$$Q^\\pi(s,a) = E_{p^\\pi}\\left[\\sum_{t \\geq 0} \\gamma^t r(s_t,a_t) \\mid s_0=s,a_0=a\\right]$$\n",
    "\n",
    "Then,\n",
    "\n",
    "\\begin{align*}\n",
    "Q^\\pi(s,a) &= E_{p^\\pi}\\left[r(s_0,a_0) + \\gamma \\sum_{t \\geq 0} \\gamma^t r(s_{t+1},a_{t+1}) \\mid s_0=s,a_0=a\\right] \\\\\n",
    "&= E_{(s',a') \\sim p(.\\mid s,a)}\\left[r(s,a) + \\gamma E_{p^\\pi} \\left[ \\sum_{t \\geq 0} \\gamma^t r(s_{t+1},a_{t+1}) \\mid s_1=s',a_1=a'\\right] \\right] \\\\\n",
    "&= E_{(s',a') \\sim p(.\\mid s,a)}\\left[r(s,a) + \\gamma Q^\\pi(s',a') \\right]\n",
    "\\end{align*}\n",
    "\n",
    "$\\bullet$ We have $Q^*(s,a) = Q^{\\pi^*}(s,a)$, and we assume that $\\pi^*$ is chosen deterministic (which is possible if the state and action spaces are finite). Then,\n",
    "\n",
    "\\begin{align*}\n",
    "Q^*(s,a) &= E_{(s',a') \\sim \\pi^*(.\\mid s,a)}\\left[r(s,a) + \\gamma Q^*(s',a') \\right] \\\\\n",
    "&= E_{s' \\sim \\pi^*(.\\mid s,a)}\\left[r(s,a) + \\gamma Q^*(s',\\pi^*(s')) \\right] \\\\\n",
    "\\end{align*}\n",
    "\n",
    "and $\\pi^*$ being optimal, $\\pi^*(s')$ maximizes $Q^*(s',\\cdot)$, thus \n",
    "\n",
    "$$Q^{*}(s,a)=E_{s'\\sim \\pi^*(.|s,a)}[r(s,a)+\\gamma\\max_{a'}Q^{*}(s',a')]$$\n",
    "\n",
    "$\\bullet$ Since the goal is to find $Q^*$, we can aim at making the previous equality true. It can be rewritten as\n",
    "\n",
    "$$E_{s'\\sim \\pi^*(.|s,a)}[r(s,a)+\\gamma\\max_{a'}Q^{*}(s',a') - Q^{*}(s,a)] = 0$$\n",
    "\n",
    "thus a plausible objective would be one that minimizes its norm with respect to $Q$:\n",
    "\n",
    "\\begin{equation*}\n",
    "\\mathcal{L}(\\theta)=E_{s' \\sim \\pi^*(.|s,a)}\\Vert r+\\gamma\\max_{a'}Q(s',a',\\theta)-Q(s,a,\\theta)\\Vert^{2}.\n",
    "\\end{equation*}"
   ]
  },
  {
   "cell_type": "markdown",
   "metadata": {},
   "source": [
    "***\n",
    "The DQN-learning algorithm relies on these derivations to train the parameters $\\theta$ of a Deep Neural Network:\n",
    "\n",
    "1. At the state $s_t$, select the action $a_t$ with best reward using $Q_t$ and store the results;\n",
    "\n",
    "2. Obtain the new state $s_{t+1}$ from the environment $p$;\n",
    "\n",
    "3. Store $(s_t,a_t,s_{t+1})$;\n",
    "\n",
    "4. Obtain $Q_{t+1}$ by minimizing  $\\mathcal{L}$ from a recovered batch from the previously stored results.\n",
    "\n",
    "***\n",
    "__Question 6__ Implement the class ```Memory``` that stores moves (in a replay buffer) via ```remember``` and provides a ```random_access``` to these. Specify a maximum memory size to avoid side effects. You can for example use a ```list()``` and set by default ```max_memory=100```."
   ]
  },
  {
   "cell_type": "code",
   "execution_count": 9,
   "metadata": {},
   "outputs": [],
   "source": [
    "class Memory(object):\n",
    "    def __init__(self, max_memory=100):\n",
    "        self.max_memory = max_memory\n",
    "        self.memory = list()\n",
    "        self.current = 0\n",
    "\n",
    "    def remember(self, m):\n",
    "        if len(self.memory) < self.max_memory:\n",
    "            # append to memory if it is not full yet\n",
    "            self.memory.append(m)\n",
    "        else:\n",
    "            # if memory is full, rewrite over oldest element in memory\n",
    "            self.memory[self.current] = m\n",
    "            self.current = (self.current + 1) % self.max_memory\n",
    "\n",
    "    def random_access(self):\n",
    "        # return a random element of the memory\n",
    "        idx = np.random.randint(len(self.memory))\n",
    "        return self.memory[idx]"
   ]
  },
  {
   "cell_type": "markdown",
   "metadata": {},
   "source": [
    "***\n",
    "The pipeline we will use for training is given below:"
   ]
  },
  {
   "cell_type": "code",
   "execution_count": 10,
   "metadata": {},
   "outputs": [],
   "source": [
    "def train(agent,env,epoch,prefix=''):\n",
    "    # Number of won games\n",
    "    score = 0\n",
    "    loss = 0\n",
    "\n",
    "    for e in range(epoch):\n",
    "        # At each epoch, we restart to a fresh game and get the initial state\n",
    "        state = env.reset()\n",
    "        # This assumes that the games will terminate\n",
    "        game_over = False\n",
    "\n",
    "        win = 0\n",
    "        lose = 0\n",
    "\n",
    "        while not game_over:\n",
    "            # The agent performs an action\n",
    "            action = agent.act(state)\n",
    "\n",
    "            # Apply an action to the environment, get the next state, the reward\n",
    "            # and if the games end\n",
    "            prev_state = state\n",
    "            state, reward, game_over = env.act(action)\n",
    "\n",
    "            # Update the counters\n",
    "            if reward > 0:\n",
    "                win = win + reward\n",
    "            if reward < 0:\n",
    "                lose = lose -reward\n",
    "\n",
    "            # Apply the reinforcement strategy\n",
    "            loss = agent.reinforce(prev_state, state,  action, reward, game_over)\n",
    "\n",
    "        # Save as a mp4\n",
    "        if e % 10 == 0:\n",
    "            env.draw(prefix+str(e))\n",
    "\n",
    "        # Update stats\n",
    "        score += win-lose\n",
    "\n",
    "        print(\"Epoch {:03d}/{:03d} | Loss {:.4f} | Win/lose count {}/{} ({})\"\n",
    "              .format(e, epoch, loss, win, lose, win-lose))\n",
    "        agent.save(name_weights=prefix+'model.h5',name_model=prefix+'model.json')"
   ]
  },
  {
   "cell_type": "markdown",
   "metadata": {},
   "source": [
    "I define a function to evaluate an agent (ie without exploration):"
   ]
  },
  {
   "cell_type": "markdown",
   "metadata": {},
   "source": [
    "***\n",
    "__Question 7__ Implement the DQN training algorithm using a cascade of fully connected layers. You can use different learning rate, batch size or memory size parameters. In particular, the loss might oscillate while the player will start to win the games. You have to find a good criterium."
   ]
  },
  {
   "cell_type": "code",
   "execution_count": 11,
   "metadata": {},
   "outputs": [],
   "source": [
    "class DQN(Agent):  # abstract class\n",
    "    def __init__(self, grid_size, epsilon=0.1, memory_size=100, batch_size=16, n_state=2, **kwargs):\n",
    "        super(DQN, self).__init__(epsilon = epsilon)\n",
    "\n",
    "        # Discount for Q learning\n",
    "        self.discount = 0.99\n",
    "        \n",
    "        self.grid_size = grid_size\n",
    "        \n",
    "        # number of state\n",
    "        self.n_state = n_state\n",
    "\n",
    "        # Memory\n",
    "        self.memory = Memory(memory_size)\n",
    "        \n",
    "        # Batch size when learning\n",
    "        self.batch_size = batch_size\n",
    "\n",
    "    def learned_act(self, s):\n",
    "        Q = self.model.predict(np.expand_dims(s, axis=0))\n",
    "        return np.argmax(Q)\n",
    "\n",
    "    def reinforce(self, s_, n_s_, a_, r_, game_over_):\n",
    "        # Two steps: first memorize the states, second learn from the pool\n",
    "\n",
    "        self.memory.remember([s_, n_s_, a_, r_, game_over_])\n",
    "        \n",
    "        input_states = np.zeros((self.batch_size, 5,5,self.n_state))\n",
    "        target_q = np.zeros((self.batch_size, 4))\n",
    "        \n",
    "        for i in range(self.batch_size):\n",
    "            s, ns, a, r, game_over = self.memory.random_access()\n",
    "            \n",
    "            input_states[i] = s\n",
    "            target_q[i] = self.model.predict(np.expand_dims(s, axis=0))\n",
    "            \n",
    "            if not game_over:\n",
    "                Q_ns = self.model.predict(np.expand_dims(ns, axis=0))\n",
    "                target_q[i,a] = r + self.discount * np.max(Q_ns)\n",
    "        \n",
    "        # HINT: Clip the target to avoid exploiding gradients.. -- clipping is a bit tighter\n",
    "        target_q = np.clip(target_q, -3, 3)\n",
    "\n",
    "        l = self.model.train_on_batch(input_states, target_q)\n",
    "\n",
    "\n",
    "        return l\n",
    "\n",
    "    def save(self,name_weights='model.h5',name_model='model.json'):\n",
    "        self.model.save_weights(name_weights, overwrite=True)\n",
    "        with open(name_model, \"w\") as outfile:\n",
    "            json.dump(self.model.to_json(), outfile)\n",
    "            \n",
    "    def load(self,name_weights='model.h5',name_model='model.json'):\n",
    "        with open(name_model, \"r\") as jfile:\n",
    "            model = model_from_json(json.load(jfile))\n",
    "        model.load_weights(name_weights)\n",
    "        model.compile(\"sgd\", \"mse\")\n",
    "        self.model = model\n",
    "\n",
    "from keras.layers import Flatten    \n",
    "class DQN_FC(DQN):\n",
    "    def __init__(self, *args, lr=0.1,**kwargs):\n",
    "        super(DQN_FC, self).__init__( *args,**kwargs)\n",
    "        \n",
    "        # NN Model\n",
    "        model = Sequential()\n",
    "        model.add(Flatten(input_shape=(5,5,self.n_state)))\n",
    "        model.add(Dense(64))        \n",
    "        model.add(Activation('relu'))\n",
    "        model.add(Dense(32))        \n",
    "        model.add(Activation('relu'))\n",
    "        model.add(Dense(16))        \n",
    "        model.add(Activation('relu'))\n",
    "        model.add(Dense(4))\n",
    "        \n",
    "        #model.compile(sgd(lr=lr, decay=1e-4, momentum=0.0), \"mse\")\n",
    "        model.compile(Adam(lr=lr), \"mse\")\n",
    "        self.model = model\n",
    "        "
   ]
  },
  {
   "cell_type": "code",
   "execution_count": 12,
   "metadata": {},
   "outputs": [
    {
     "name": "stdout",
     "output_type": "stream",
     "text": [
      "Epoch 000/021 | Loss 0.0059 | Win/lose count 5.5/11.0 (-5.5)\n",
      "Epoch 001/021 | Loss 0.0034 | Win/lose count 3.5/6.0 (-2.5)\n",
      "Epoch 002/021 | Loss 0.0050 | Win/lose count 10.0/7.0 (3.0)\n",
      "Epoch 003/021 | Loss 0.0017 | Win/lose count 4.5/1.0 (3.5)\n",
      "Epoch 004/021 | Loss 0.0018 | Win/lose count 4.5/6.0 (-1.5)\n",
      "Epoch 005/021 | Loss 0.0036 | Win/lose count 5.5/1.0 (4.5)\n",
      "Epoch 006/021 | Loss 0.0035 | Win/lose count 7.0/2.0 (5.0)\n",
      "Epoch 007/021 | Loss 0.0044 | Win/lose count 13.0/8.0 (5.0)\n",
      "Epoch 008/021 | Loss 0.0013 | Win/lose count 9.0/4.0 (5.0)\n",
      "Epoch 009/021 | Loss 0.0029 | Win/lose count 11.0/4.0 (7.0)\n",
      "Epoch 010/021 | Loss 0.0027 | Win/lose count 11.0/6.0 (5.0)\n",
      "Epoch 011/021 | Loss 0.0009 | Win/lose count 8.0/2.0 (6.0)\n",
      "Epoch 012/021 | Loss 0.0022 | Win/lose count 20.0/5.0 (15.0)\n",
      "Epoch 013/021 | Loss 0.0003 | Win/lose count 15.0/2.0 (13.0)\n",
      "Epoch 014/021 | Loss 0.0023 | Win/lose count 11.5/8.0 (3.5)\n",
      "Epoch 015/021 | Loss 0.0006 | Win/lose count 17.0/8.0 (9.0)\n",
      "Epoch 016/021 | Loss 0.0004 | Win/lose count 15.0/4.0 (11.0)\n",
      "Epoch 017/021 | Loss 0.0004 | Win/lose count 8.5/6.0 (2.5)\n",
      "Epoch 018/021 | Loss 0.0006 | Win/lose count 14.5/3.0 (11.5)\n",
      "Epoch 019/021 | Loss 0.0003 | Win/lose count 13.5/3.0 (10.5)\n",
      "Epoch 020/021 | Loss 0.0002 | Win/lose count 13.0/1.0 (12.0)\n"
     ]
    }
   ],
   "source": [
    "env = Environment(grid_size=size, max_time=T, temperature=0.3)\n",
    "agent = DQN_FC(size, lr=.01, epsilon=0.2, memory_size=5*T, batch_size = 64)\n",
    "train(agent, env, epoch=21, prefix='fc_train')"
   ]
  },
  {
   "cell_type": "code",
   "execution_count": 13,
   "metadata": {},
   "outputs": [
    {
     "data": {
      "text/html": [
       "<video alt=\"test\" controls>\n",
       "                <source src=\"data:video/mp4;base64,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\" type=\"video/mp4\" />\n",
       "             </video>"
      ],
      "text/plain": [
       "<IPython.core.display.HTML object>"
      ]
     },
     "execution_count": 13,
     "metadata": {},
     "output_type": "execute_result"
    }
   ],
   "source": [
    "HTML(display_videos('fc_train20.mp4'))"
   ]
  },
  {
   "cell_type": "markdown",
   "metadata": {},
   "source": [
    "After just 20 training iterations, the FC agent is already doing pretty good ratio-wise."
   ]
  },
  {
   "cell_type": "markdown",
   "metadata": {},
   "source": [
    "***\n",
    "***\n",
    "__Question 8__ Implement the DQN training algorithm using a CNN (for example, 2 convolutional layers and one final fully connected layer)."
   ]
  },
  {
   "cell_type": "code",
   "execution_count": 14,
   "metadata": {},
   "outputs": [],
   "source": [
    "class DQN_CNN(DQN):\n",
    "    def __init__(self, *args,lr=0.1,**kwargs):\n",
    "        super(DQN_CNN, self).__init__(*args,**kwargs)\n",
    "        \n",
    "        if 'filters' not in kwargs:\n",
    "            kwargs['filters'] = [20, 10]\n",
    "        \n",
    "        model = Sequential()\n",
    "        model.add(Conv2D(filters=kwargs['filters'][0], kernel_size=2, input_shape=(5,5,self.n_state)))\n",
    "        model.add(Activation('relu'))\n",
    "        model.add(Conv2D(filters=kwargs['filters'][1], kernel_size=2))\n",
    "        model.add(Activation('relu'))\n",
    "        model.add(Flatten())\n",
    "        model.add(Dense(4))        \n",
    "        \n",
    "        #model.compile(sgd(lr=lr, decay=1e-4, momentum=0.0), \"mse\")\n",
    "        model.compile(Adam(lr=lr), \"mse\")\n",
    "        self.model = model"
   ]
  },
  {
   "cell_type": "code",
   "execution_count": 15,
   "metadata": {
    "scrolled": true
   },
   "outputs": [
    {
     "name": "stdout",
     "output_type": "stream",
     "text": [
      "Epoch 000/021 | Loss 0.0028 | Win/lose count 2.5/5.0 (-2.5)\n",
      "Epoch 001/021 | Loss 0.0004 | Win/lose count 2.0/2.0 (0.0)\n",
      "Epoch 002/021 | Loss 0.0008 | Win/lose count 10.0/5.0 (5.0)\n",
      "Epoch 003/021 | Loss 0.0013 | Win/lose count 9.5/3.0 (6.5)\n",
      "Epoch 004/021 | Loss 0.0016 | Win/lose count 8.5/1.0 (7.5)\n",
      "Epoch 005/021 | Loss 0.0009 | Win/lose count 7.0/4.0 (3.0)\n",
      "Epoch 006/021 | Loss 0.0046 | Win/lose count 6.5/4.0 (2.5)\n",
      "Epoch 007/021 | Loss 0.0009 | Win/lose count 1.5/4.0 (-2.5)\n",
      "Epoch 008/021 | Loss 0.0016 | Win/lose count 9.0/2.0 (7.0)\n",
      "Epoch 009/021 | Loss 0.0006 | Win/lose count 16.0/3.0 (13.0)\n",
      "Epoch 010/021 | Loss 0.0005 | Win/lose count 19.5/5.0 (14.5)\n",
      "Epoch 011/021 | Loss 0.0008 | Win/lose count 12.0/4.0 (8.0)\n",
      "Epoch 012/021 | Loss 0.0005 | Win/lose count 15.0/10.0 (5.0)\n",
      "Epoch 013/021 | Loss 0.0004 | Win/lose count 13.5/7.0 (6.5)\n",
      "Epoch 014/021 | Loss 0.0015 | Win/lose count 16.5/6.0 (10.5)\n",
      "Epoch 015/021 | Loss 0.0005 | Win/lose count 20.0/3.0 (17.0)\n",
      "Epoch 016/021 | Loss 0.0006 | Win/lose count 22.0/8.0 (14.0)\n",
      "Epoch 017/021 | Loss 0.0004 | Win/lose count 11.5/3.0 (8.5)\n",
      "Epoch 018/021 | Loss 0.0004 | Win/lose count 16.5/7.0 (9.5)\n",
      "Epoch 019/021 | Loss 0.0003 | Win/lose count 12.5/7.0 (5.5)\n",
      "Epoch 020/021 | Loss 0.0005 | Win/lose count 15.0/2.0 (13.0)\n"
     ]
    }
   ],
   "source": [
    "env = Environment(grid_size=size, max_time=T, temperature=0.3)\n",
    "agent = DQN_CNN(size, lr=.01, epsilon = 0.2, memory_size=5*T, batch_size = 64)\n",
    "train(agent,env,epoch=21,prefix='cnn_train')"
   ]
  },
  {
   "cell_type": "code",
   "execution_count": 16,
   "metadata": {},
   "outputs": [
    {
     "data": {
      "text/html": [
       "<video alt=\"test\" controls>\n",
       "                <source src=\"data:video/mp4;base64,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\" type=\"video/mp4\" />\n",
       "             </video>"
      ],
      "text/plain": [
       "<IPython.core.display.HTML object>"
      ]
     },
     "execution_count": 16,
     "metadata": {},
     "output_type": "execute_result"
    }
   ],
   "source": [
    "HTML(display_videos('cnn_train20.mp4'))"
   ]
  },
  {
   "cell_type": "markdown",
   "metadata": {},
   "source": [
    "Similarly, the CNN agent is doing very well after 20 training iterations. The ratios it achieves seem quite better than the ratios achieved by the FC agent."
   ]
  },
  {
   "cell_type": "markdown",
   "metadata": {},
   "source": [
    "***\n",
    "***\n",
    "__Question 9__ Test both algorithms and compare their performances. Which issue(s) do you observe? Observe also different behaviors by changing the temperature."
   ]
  },
  {
   "cell_type": "code",
   "execution_count": 17,
   "metadata": {},
   "outputs": [
    {
     "name": "stdout",
     "output_type": "stream",
     "text": [
      "Test of the CNN\n",
      "Win/lose count 11.0/0. Average score (11.0)\n",
      "Win/lose count 3.0/0. Average score (7.0)\n",
      "Win/lose count 5.5/0. Average score (6.5)\n",
      "Win/lose count 5.5/0. Average score (6.25)\n",
      "Win/lose count 15.0/0. Average score (8.0)\n",
      "Win/lose count 1.5/0. Average score (6.916666666666667)\n",
      "Win/lose count 13.5/0. Average score (7.857142857142857)\n",
      "Win/lose count 2.5/0. Average score (7.1875)\n",
      "Win/lose count 8.0/0. Average score (7.277777777777778)\n",
      "Win/lose count 1.0/0. Average score (6.65)\n",
      "Final score: 6.65\n",
      "Test of the FC\n",
      "Win/lose count 1.5/0. Average score (1.5)\n",
      "Win/lose count 4.5/2.0. Average score (2.0)\n",
      "Win/lose count 1.5/0. Average score (1.8333333333333333)\n",
      "Win/lose count 8.5/0. Average score (3.5)\n",
      "Win/lose count 5.5/0. Average score (3.9)\n",
      "Win/lose count 8.0/1.0. Average score (4.416666666666667)\n",
      "Win/lose count 4.5/0. Average score (4.428571428571429)\n",
      "Win/lose count 2.5/0. Average score (4.1875)\n",
      "Win/lose count 5.0/0. Average score (4.277777777777778)\n",
      "Win/lose count 2.5/0. Average score (4.1)\n",
      "Final score: 4.1\n"
     ]
    }
   ],
   "source": [
    "env = Environment(grid_size=size, max_time=T,temperature=0.3)\n",
    "agent_cnn = DQN_CNN(size, lr=.1, epsilon = 0.1, memory_size=2000, batch_size = 32)\n",
    "agent_cnn.load(name_weights='cnn_trainmodel.h5',name_model='cnn_trainmodel.json')\n",
    "\n",
    "agent_fc = DQN_FC(size, lr=.1, epsilon = 0.1, memory_size=2000, batch_size = 32)\n",
    "agent_fc.load(name_weights='fc_trainmodel.h5',name_model='fc_trainmodel.json')\n",
    "print('Test of the CNN')\n",
    "test(agent_cnn,env,epochs=10,prefix='cnn_test')\n",
    "print('Test of the FC')\n",
    "test(agent_fc,env,epochs=10,prefix='fc_test')"
   ]
  },
  {
   "cell_type": "code",
   "execution_count": 18,
   "metadata": {},
   "outputs": [
    {
     "data": {
      "text/html": [
       "<video alt=\"test\" controls>\n",
       "                <source src=\"data:video/mp4;base64,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\" type=\"video/mp4\" />\n",
       "             </video>"
      ],
      "text/plain": [
       "<IPython.core.display.HTML object>"
      ]
     },
     "execution_count": 18,
     "metadata": {},
     "output_type": "execute_result"
    }
   ],
   "source": [
    "HTML(display_videos('cnn_test9.mp4'))"
   ]
  },
  {
   "cell_type": "code",
   "execution_count": 19,
   "metadata": {},
   "outputs": [
    {
     "data": {
      "text/html": [
       "<video alt=\"test\" controls>\n",
       "                <source src=\"data:video/mp4;base64,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\" type=\"video/mp4\" />\n",
       "             </video>"
      ],
      "text/plain": [
       "<IPython.core.display.HTML object>"
      ]
     },
     "execution_count": 19,
     "metadata": {},
     "output_type": "execute_result"
    }
   ],
   "source": [
    "HTML(display_videos('fc_test9.mp4'))"
   ]
  },
  {
   "cell_type": "markdown",
   "metadata": {},
   "source": [
    "When removing the random exploration, we can see that both trained agent rarely go over maluses. However, they usually get stuck in an infinite loop between two adjacent cases. This is probably due to the fact that our final greedy policy is deterministic and sends two adjacent positions towards each other. We will try to fix it in question 10. Regarding the scores, the CNN agent seems to do a little bit better than the FC agent, but this is not very meaningful since the time after which the agents get stuck is quite random. "
   ]
  },
  {
   "cell_type": "code",
   "execution_count": 20,
   "metadata": {},
   "outputs": [
    {
     "name": "stdout",
     "output_type": "stream",
     "text": [
      "Test of the CNN, temperature=0.1\n",
      "Win/lose count 1.5/0. Average score (1.5)\n",
      "Win/lose count 1.5/0. Average score (1.5)\n",
      "Win/lose count 0.5/0. Average score (1.1666666666666667)\n",
      "Win/lose count 3.0/0. Average score (1.625)\n",
      "Win/lose count 0.5/1.0. Average score (1.2)\n",
      "Final score: 1.2\n",
      "\n",
      "Test of the CNN, temperature=0.5\n",
      "Win/lose count 22.5/0. Average score (22.5)\n",
      "Win/lose count 16.5/1.0. Average score (19.0)\n",
      "Win/lose count 9.5/1.0. Average score (15.5)\n",
      "Win/lose count 11.0/1.0. Average score (14.125)\n",
      "Win/lose count 9.5/0. Average score (13.2)\n",
      "Final score: 13.2\n",
      "\n",
      "Test of the CNN, temperature=0.9\n",
      "Win/lose count 0.5/0. Average score (0.5)\n",
      "Win/lose count 1.0/0. Average score (0.75)\n",
      "Win/lose count 9.0/0. Average score (3.5)\n",
      "Win/lose count 24.5/0. Average score (8.75)\n",
      "Win/lose count 1.5/0. Average score (7.3)\n",
      "Final score: 7.3\n",
      "\n"
     ]
    }
   ],
   "source": [
    "for temp in [0.1, 0.5, 0.9]:\n",
    "    env = Environment(grid_size=size, max_time=T,temperature=temp)\n",
    "    print('Test of the CNN, temperature=' + str(temp))\n",
    "    test(agent_cnn,env,epochs=5,prefix='cnn_test')\n",
    "    print()"
   ]
  },
  {
   "cell_type": "markdown",
   "metadata": {},
   "source": [
    "We can see that when we increase the temperature, the scores get higher. This is normal, since when both a bonus and a malus are generated on a case (in `env.reset()`), then only the bonus is kept. Thus with a high temperature, the map will be composed mostly of bonuses."
   ]
  },
  {
   "cell_type": "markdown",
   "metadata": {},
   "source": [
    "***\n",
    "\n",
    "The algorithm tends to not explore the map which can be an issue. We propose two ideas in order to encourage exploration:\n",
    "1. Incorporating a decreasing $\\epsilon$-greedy exploration. You can use the method ```set_epsilon```\n",
    "2. Append via the environment a new state that describes if a cell has been visited or not\n",
    "\n",
    "***\n",
    "__Question 10__ Design a new ```train_explore``` function and environment class ```EnvironmentExploring``` to tackle the issue of exploration.\n",
    "\n"
   ]
  },
  {
   "cell_type": "code",
   "execution_count": 21,
   "metadata": {},
   "outputs": [],
   "source": [
    "def train_explore(agent,env,epoch,epsilon_discount=0.99,prefix=''):\n",
    "    # Number of won games\n",
    "    score = 0\n",
    "    loss = 0\n",
    "\n",
    "    for e in range(epoch):\n",
    "        # At each epoch, we restart to a fresh game and get the initial state\n",
    "        state = env.reset()\n",
    "        # This assumes that the games will terminate\n",
    "        game_over = False\n",
    "\n",
    "        win = 0\n",
    "        lose = 0\n",
    "\n",
    "        while not game_over:\n",
    "            # The agent performs an action\n",
    "            action = agent.act(state)\n",
    "\n",
    "            # Apply an action to the environment, get the next state, the reward\n",
    "            # and if the games end\n",
    "            prev_state = state\n",
    "            state, reward, reward_real, game_over = env.act(action, train=True)\n",
    "\n",
    "            # Update the counters\n",
    "            if reward_real > 0:\n",
    "                win = win + reward_real\n",
    "            if reward_real < 0:\n",
    "                lose = lose -reward_real\n",
    "\n",
    "            # Apply the reinforcement strategy\n",
    "            loss = agent.reinforce(prev_state, state,  action, reward, game_over)\n",
    "\n",
    "        # Save as a mp4\n",
    "        if e % 10 == 0:\n",
    "            env.draw(prefix+str(e))\n",
    "\n",
    "        # Update stats\n",
    "        score += win-lose\n",
    "        \n",
    "        # Decreasing epsilon-greedy exploration\n",
    "        agent.set_epsilon(epsilon_discount * agent.epsilon)\n",
    "\n",
    "        print(\"Epoch {:03d}/{:03d} | Loss {:.4f} | Win/lose count {:.2f}/{:.2f} ({:.2f})\"\n",
    "              .format(e+1, epoch, loss, win, lose, win-lose))\n",
    "        agent.save(name_weights=prefix+'model.h5',name_model=prefix+'model.json')\n",
    "\n",
    "        \n",
    "class EnvironmentExploring(Environment):\n",
    "    def __init__(self, grid_size=10, max_time=500, temperature=0.1):\n",
    "        super(EnvironmentExploring, self).__init__(\n",
    "            grid_size=grid_size, max_time=max_time, temperature=temperature)\n",
    "        self.malus_position = np.zeros((grid_size,grid_size))       \n",
    "\n",
    "    def act(self, action, train=False):\n",
    "        \"\"\"This function returns the new state, reward and decides if the\n",
    "        game ends.\"\"\"\n",
    "\n",
    "        self.get_frame(int(self.t))\n",
    "\n",
    "        self.position = np.zeros((self.grid_size, self.grid_size))\n",
    "\n",
    "        self.position[0:2,:]= -1\n",
    "        self.position[:,0:2] = -1\n",
    "        self.position[-2:, :] = -1\n",
    "        self.position[-2:, :] = -1\n",
    "\n",
    "        self.position[self.x, self.y] = 1\n",
    "        if action == 0:\n",
    "            if self.x == self.grid_size-3:\n",
    "                self.x = self.x-1\n",
    "            else:\n",
    "                self.x = self.x + 1\n",
    "        elif action == 1:\n",
    "            if self.x == 2:\n",
    "                self.x = self.x+1\n",
    "            else:\n",
    "                self.x = self.x-1\n",
    "        elif action == 2:\n",
    "            if self.y == self.grid_size - 3:\n",
    "                self.y = self.y - 1\n",
    "            else:\n",
    "                self.y = self.y + 1\n",
    "        elif action == 3:\n",
    "            if self.y == 2:\n",
    "                self.y = self.y + 1\n",
    "            else:\n",
    "                self.y = self.y - 1\n",
    "        else:\n",
    "            RuntimeError('Error: action not recognized')\n",
    "\n",
    "        self.t = self.t + 1\n",
    "        reward = self.board[self.x, self.y]\n",
    "        reward_real = reward\n",
    "        self.board[self.x, self.y] = 0\n",
    "        game_over = self.t > self.max_time\n",
    "        \n",
    "        if train:\n",
    "            reward -= self.malus_position[self.x, self.y]\n",
    "        self.malus_position[self.x, self.y] += 0.1\n",
    "\n",
    "        state = np.concatenate((self.malus_position.reshape(self.grid_size, self.grid_size,1),\n",
    "                                self.board.reshape(self.grid_size, self.grid_size,1),\n",
    "                                self.position.reshape(self.grid_size, self.grid_size,1)),axis=2)\n",
    "        state = state[self.x-2:self.x+3,self.y-2:self.y+3,:]\n",
    "\n",
    "        if train:\n",
    "            return state, reward, reward_real, game_over\n",
    "        else:\n",
    "            return state, reward, game_over\n",
    "\n",
    "    def reset(self):\n",
    "        \"\"\"This function resets the game and returns the initial state\"\"\"\n",
    "        self.malus_position = np.zeros((self.grid_size,self.grid_size))  \n",
    "\n",
    "        self.x = np.random.randint(3, self.grid_size-3, size=1)[0]\n",
    "        self.y = np.random.randint(3, self.grid_size-3, size=1)[0]\n",
    "\n",
    "\n",
    "        bonus = 0.5*np.random.binomial(1,self.temperature,size=self.grid_size**2)\n",
    "        bonus = bonus.reshape(self.grid_size,self.grid_size)\n",
    "\n",
    "        malus = -1.0*np.random.binomial(1,self.temperature,size=self.grid_size**2)\n",
    "        malus = malus.reshape(self.grid_size, self.grid_size)\n",
    "\n",
    "        self.to_draw = np.zeros((self.max_time+2, self.grid_size*self.scale, self.grid_size*self.scale, 3))\n",
    "\n",
    "\n",
    "        malus[bonus>0]=0\n",
    "\n",
    "        self.board = bonus + malus\n",
    "\n",
    "        self.position = np.zeros((self.grid_size, self.grid_size))\n",
    "        self.position[0:2,:]= -1\n",
    "        self.position[:,0:2] = -1\n",
    "        self.position[-2:, :] = -1\n",
    "        self.position[-2:, :] = -1\n",
    "        self.board[self.x,self.y] = 0\n",
    "        self.t = 0\n",
    "\n",
    "        state = np.concatenate((self.malus_position.reshape(self.grid_size, self.grid_size,1),\n",
    "                                self.board.reshape(self.grid_size, self.grid_size,1),\n",
    "                                self.position.reshape(self.grid_size, self.grid_size,1)),axis=2)\n",
    "\n",
    "        state = state[self.x - 2:self.x + 3, self.y - 2:self.y + 3, :]\n",
    "        return state\n",
    "\n",
    "    def get_frame(self,t):\n",
    "        b = np.zeros((self.grid_size,self.grid_size,3))+128\n",
    "        b[self.board>0,0] = 256\n",
    "        b[self.board < 0, 2] = 256\n",
    "        b[self.malus_position > 0,1] = 150\n",
    "        b[self.x,self.y,:]=256\n",
    "        b[-2:,:,:]=0\n",
    "        b[:,-2:,:]=0\n",
    "        b[:2,:,:]=0\n",
    "        b[:,:2,:]=0\n",
    "        \n",
    "        b =  cv2.resize(b, None, fx=self.scale, fy=self.scale, interpolation=cv2.INTER_NEAREST)\n",
    "\n",
    "        self.to_draw[t,:,:,:]=b"
   ]
  },
  {
   "cell_type": "code",
   "execution_count": 22,
   "metadata": {},
   "outputs": [
    {
     "name": "stdout",
     "output_type": "stream",
     "text": [
      "Epoch 001/021 | Loss 0.0209 | Win/lose count 9.50/12.00 (-2.50)\n",
      "Epoch 002/021 | Loss 0.0073 | Win/lose count 20.00/1.00 (19.00)\n",
      "Epoch 003/021 | Loss 0.0080 | Win/lose count 15.50/6.00 (9.50)\n",
      "Epoch 004/021 | Loss 0.0048 | Win/lose count 18.50/7.00 (11.50)\n",
      "Epoch 005/021 | Loss 0.0063 | Win/lose count 20.00/1.00 (19.00)\n",
      "Epoch 006/021 | Loss 0.0092 | Win/lose count 23.50/2.00 (21.50)\n",
      "Epoch 007/021 | Loss 0.0049 | Win/lose count 21.00/3.00 (18.00)\n",
      "Epoch 008/021 | Loss 0.0047 | Win/lose count 23.00/2.00 (21.00)\n",
      "Epoch 009/021 | Loss 0.0080 | Win/lose count 21.50/6.00 (15.50)\n",
      "Epoch 010/021 | Loss 0.0062 | Win/lose count 26.50/2.00 (24.50)\n",
      "Epoch 011/021 | Loss 0.0065 | Win/lose count 23.00/3.00 (20.00)\n",
      "Epoch 012/021 | Loss 0.0126 | Win/lose count 24.00/9.00 (15.00)\n",
      "Epoch 013/021 | Loss 0.0136 | Win/lose count 25.00/9.00 (16.00)\n",
      "Epoch 014/021 | Loss 0.0062 | Win/lose count 24.00/9.00 (15.00)\n",
      "Epoch 015/021 | Loss 0.0069 | Win/lose count 21.50/7.00 (14.50)\n",
      "Epoch 016/021 | Loss 0.0093 | Win/lose count 17.50/10.00 (7.50)\n",
      "Epoch 017/021 | Loss 0.0081 | Win/lose count 23.00/4.00 (19.00)\n",
      "Epoch 018/021 | Loss 0.0102 | Win/lose count 18.50/5.00 (13.50)\n",
      "Epoch 019/021 | Loss 0.0100 | Win/lose count 24.50/3.00 (21.50)\n",
      "Epoch 020/021 | Loss 0.0090 | Win/lose count 21.00/5.00 (16.00)\n",
      "Epoch 021/021 | Loss 0.0085 | Win/lose count 25.00/7.00 (18.00)\n"
     ]
    }
   ],
   "source": [
    "# Training\n",
    "env = EnvironmentExploring(grid_size=size, max_time=T, temperature=0.3)\n",
    "agent = DQN_CNN(size, lr=.01, epsilon = 0.1, memory_size=5*T, batch_size = 64,n_state=3)\n",
    "train_explore(agent, env, epoch=21, epsilon_discount=0.99, prefix='cnn_train_explore')"
   ]
  },
  {
   "cell_type": "code",
   "execution_count": 24,
   "metadata": {
    "scrolled": true
   },
   "outputs": [
    {
     "data": {
      "text/html": [
       "<video alt=\"test\" controls>\n",
       "                <source src=\"data:video/mp4;base64,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\" type=\"video/mp4\" />\n",
       "             </video>"
      ],
      "text/plain": [
       "<IPython.core.display.HTML object>"
      ]
     },
     "execution_count": 24,
     "metadata": {},
     "output_type": "execute_result"
    }
   ],
   "source": [
    "HTML(display_videos('cnn_train_explore20.mp4'))"
   ]
  },
  {
   "cell_type": "code",
   "execution_count": 25,
   "metadata": {},
   "outputs": [
    {
     "name": "stdout",
     "output_type": "stream",
     "text": [
      "Win/lose count 22.5/4.0. Average score (18.5)\n",
      "Win/lose count 24.0/3.0. Average score (19.75)\n",
      "Win/lose count 27.0/3.0. Average score (21.166666666666668)\n",
      "Win/lose count 17.5/8.0. Average score (18.25)\n",
      "Win/lose count 22.0/2.0. Average score (18.6)\n",
      "Win/lose count 17.5/5.0. Average score (17.583333333333332)\n",
      "Win/lose count 16.5/2.0. Average score (17.142857142857142)\n",
      "Win/lose count 20.0/4.0. Average score (17.0)\n",
      "Win/lose count 22.0/9.0. Average score (16.555555555555557)\n",
      "Win/lose count 25.0/4.0. Average score (17.0)\n",
      "Win/lose count 24.0/5.0. Average score (17.181818181818183)\n",
      "Win/lose count 31.5/1.0. Average score (18.291666666666668)\n",
      "Win/lose count 21.0/5.0. Average score (18.115384615384617)\n",
      "Win/lose count 23.0/5.0. Average score (18.107142857142858)\n",
      "Win/lose count 26.0/3.0. Average score (18.433333333333334)\n",
      "Win/lose count 18.5/3.0. Average score (18.25)\n",
      "Win/lose count 26.5/2.0. Average score (18.61764705882353)\n",
      "Win/lose count 23.0/3.0. Average score (18.694444444444443)\n",
      "Win/lose count 25.5/3.0. Average score (18.894736842105264)\n",
      "Win/lose count 26.5/5.0. Average score (19.025)\n",
      "Win/lose count 25.5/3.0. Average score (19.19047619047619)\n",
      "Final score: 19.19047619047619\n"
     ]
    },
    {
     "data": {
      "text/html": [
       "<video alt=\"test\" controls>\n",
       "                <source src=\"data:video/mp4;base64,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\" type=\"video/mp4\" />\n",
       "             </video>"
      ],
      "text/plain": [
       "<IPython.core.display.HTML object>"
      ]
     },
     "execution_count": 25,
     "metadata": {},
     "output_type": "execute_result"
    }
   ],
   "source": [
    "# Evaluation\n",
    "test(agent,env,epochs=21,prefix='cnn_test_explore')\n",
    "HTML(display_videos('cnn_test_explore20.mp4'))"
   ]
  },
  {
   "cell_type": "markdown",
   "metadata": {},
   "source": [
    "In drew in green the cases that the agent has already explored, ie where he gets an exploration malus. \n",
    "\n",
    "The agent is playing much better than before. He does not get stuck in loops anymore, and collects lots of bonuses and not too many maluses.\n",
    "\n",
    "I threw in a last training with more epochs, more initial exploration are more filters in the convolutional layers, and managed to improve the results a little more. "
   ]
  },
  {
   "cell_type": "code",
   "execution_count": 26,
   "metadata": {},
   "outputs": [
    {
     "name": "stdout",
     "output_type": "stream",
     "text": [
      "Epoch 001/051 | Loss 0.0319 | Win/lose count 6.50/10.00 (-3.50)\n",
      "Epoch 002/051 | Loss 0.0092 | Win/lose count 11.00/12.00 (-1.00)\n",
      "Epoch 003/051 | Loss 0.0078 | Win/lose count 13.00/11.00 (2.00)\n",
      "Epoch 004/051 | Loss 0.0079 | Win/lose count 17.50/5.00 (12.50)\n",
      "Epoch 005/051 | Loss 0.0057 | Win/lose count 16.00/13.00 (3.00)\n",
      "Epoch 006/051 | Loss 0.0050 | Win/lose count 20.00/13.00 (7.00)\n",
      "Epoch 007/051 | Loss 0.0057 | Win/lose count 15.00/11.00 (4.00)\n",
      "Epoch 008/051 | Loss 0.0067 | Win/lose count 20.00/12.00 (8.00)\n",
      "Epoch 009/051 | Loss 0.0078 | Win/lose count 18.00/10.00 (8.00)\n",
      "Epoch 010/051 | Loss 0.0131 | Win/lose count 15.00/9.00 (6.00)\n",
      "Epoch 011/051 | Loss 0.0053 | Win/lose count 23.00/6.00 (17.00)\n",
      "Epoch 012/051 | Loss 0.0044 | Win/lose count 21.50/10.00 (11.50)\n",
      "Epoch 013/051 | Loss 0.0050 | Win/lose count 22.00/12.00 (10.00)\n",
      "Epoch 014/051 | Loss 0.0024 | Win/lose count 26.00/5.00 (21.00)\n",
      "Epoch 015/051 | Loss 0.0043 | Win/lose count 19.50/13.00 (6.50)\n",
      "Epoch 016/051 | Loss 0.0073 | Win/lose count 21.00/16.00 (5.00)\n",
      "Epoch 017/051 | Loss 0.0032 | Win/lose count 24.50/6.00 (18.50)\n",
      "Epoch 018/051 | Loss 0.0045 | Win/lose count 25.50/6.00 (19.50)\n",
      "Epoch 019/051 | Loss 0.0075 | Win/lose count 23.50/5.00 (18.50)\n",
      "Epoch 020/051 | Loss 0.0067 | Win/lose count 18.50/3.00 (15.50)\n",
      "Epoch 021/051 | Loss 0.0049 | Win/lose count 22.00/6.00 (16.00)\n",
      "Epoch 022/051 | Loss 0.0050 | Win/lose count 25.00/5.00 (20.00)\n",
      "Epoch 023/051 | Loss 0.0053 | Win/lose count 27.50/5.00 (22.50)\n",
      "Epoch 024/051 | Loss 0.0073 | Win/lose count 22.00/6.00 (16.00)\n",
      "Epoch 025/051 | Loss 0.0092 | Win/lose count 22.50/4.00 (18.50)\n",
      "Epoch 026/051 | Loss 0.0058 | Win/lose count 24.00/3.00 (21.00)\n",
      "Epoch 027/051 | Loss 0.0071 | Win/lose count 26.50/9.00 (17.50)\n",
      "Epoch 028/051 | Loss 0.0070 | Win/lose count 19.00/8.00 (11.00)\n",
      "Epoch 029/051 | Loss 0.0053 | Win/lose count 23.50/3.00 (20.50)\n",
      "Epoch 030/051 | Loss 0.0063 | Win/lose count 25.00/3.00 (22.00)\n",
      "Epoch 031/051 | Loss 0.0088 | Win/lose count 21.00/7.00 (14.00)\n",
      "Epoch 032/051 | Loss 0.0136 | Win/lose count 20.00/4.00 (16.00)\n",
      "Epoch 033/051 | Loss 0.0118 | Win/lose count 19.00/4.00 (15.00)\n",
      "Epoch 034/051 | Loss 0.0112 | Win/lose count 24.00/6.00 (18.00)\n",
      "Epoch 035/051 | Loss 0.0094 | Win/lose count 21.00/9.00 (12.00)\n",
      "Epoch 036/051 | Loss 0.0058 | Win/lose count 25.50/11.00 (14.50)\n",
      "Epoch 037/051 | Loss 0.0133 | Win/lose count 22.00/2.00 (20.00)\n",
      "Epoch 038/051 | Loss 0.0081 | Win/lose count 22.00/2.00 (20.00)\n",
      "Epoch 039/051 | Loss 0.0069 | Win/lose count 25.00/1.00 (24.00)\n",
      "Epoch 040/051 | Loss 0.0081 | Win/lose count 23.00/1.00 (22.00)\n",
      "Epoch 041/051 | Loss 0.0062 | Win/lose count 23.50/4.00 (19.50)\n",
      "Epoch 042/051 | Loss 0.0086 | Win/lose count 24.00/5.00 (19.00)\n",
      "Epoch 043/051 | Loss 0.0089 | Win/lose count 19.50/8.00 (11.50)\n",
      "Epoch 044/051 | Loss 0.0071 | Win/lose count 18.00/4.00 (14.00)\n",
      "Epoch 045/051 | Loss 0.0099 | Win/lose count 24.00/1.00 (23.00)\n",
      "Epoch 046/051 | Loss 0.0090 | Win/lose count 21.00/5.00 (16.00)\n",
      "Epoch 047/051 | Loss 0.0102 | Win/lose count 25.50/4.00 (21.50)\n",
      "Epoch 048/051 | Loss 0.0098 | Win/lose count 22.50/6.00 (16.50)\n",
      "Epoch 049/051 | Loss 0.0082 | Win/lose count 21.00/2.00 (19.00)\n",
      "Epoch 050/051 | Loss 0.0095 | Win/lose count 22.50/0.00 (22.50)\n",
      "Epoch 051/051 | Loss 0.0067 | Win/lose count 21.00/8.00 (13.00)\n"
     ]
    }
   ],
   "source": [
    "# Training\n",
    "env = EnvironmentExploring(grid_size=size, max_time=T, temperature=0.3)\n",
    "agent = DQN_CNN(size, lr=.01, epsilon = 0.5, memory_size=8*T, batch_size = 64,n_state=3, filters=[32, 16])\n",
    "train_explore(agent, env, epoch=51, epsilon_discount=0.95, prefix='cnn_train_explore')"
   ]
  },
  {
   "cell_type": "code",
   "execution_count": 27,
   "metadata": {
    "scrolled": false
   },
   "outputs": [
    {
     "name": "stdout",
     "output_type": "stream",
     "text": [
      "Win/lose count 26.5/5.0. Average score (21.5)\n",
      "Win/lose count 24.5/4.0. Average score (21.0)\n",
      "Win/lose count 23.0/8.0. Average score (19.0)\n",
      "Win/lose count 25.0/3.0. Average score (19.75)\n",
      "Win/lose count 20.0/4.0. Average score (19.0)\n",
      "Win/lose count 17.5/7.0. Average score (17.583333333333332)\n",
      "Win/lose count 26.0/3.0. Average score (18.357142857142858)\n",
      "Win/lose count 24.5/1.0. Average score (19.0)\n",
      "Win/lose count 25.0/1.0. Average score (19.555555555555557)\n",
      "Win/lose count 29.0/2.0. Average score (20.3)\n",
      "Win/lose count 26.5/3.0. Average score (20.59090909090909)\n",
      "Win/lose count 23.0/6.0. Average score (20.291666666666668)\n",
      "Win/lose count 18.5/3.0. Average score (19.923076923076923)\n",
      "Win/lose count 30.0/3.0. Average score (20.428571428571427)\n",
      "Win/lose count 28.0/2.0. Average score (20.8)\n",
      "Win/lose count 26.0/3.0. Average score (20.9375)\n",
      "Win/lose count 23.5/1.0. Average score (21.029411764705884)\n",
      "Win/lose count 21.5/9.0. Average score (20.555555555555557)\n",
      "Win/lose count 21.5/4.0. Average score (20.394736842105264)\n",
      "Win/lose count 18.5/3.0. Average score (20.15)\n",
      "Win/lose count 18.0/9.0. Average score (19.61904761904762)\n",
      "Win/lose count 22.5/4.0. Average score (19.568181818181817)\n",
      "Win/lose count 25.0/5.0. Average score (19.58695652173913)\n",
      "Win/lose count 18.0/6.0. Average score (19.270833333333332)\n",
      "Win/lose count 30.0/0. Average score (19.7)\n",
      "Win/lose count 25.5/2.0. Average score (19.846153846153847)\n",
      "Win/lose count 23.5/4.0. Average score (19.833333333333332)\n",
      "Win/lose count 20.0/3.0. Average score (19.732142857142858)\n",
      "Win/lose count 25.5/2.0. Average score (19.862068965517242)\n",
      "Win/lose count 22.0/5.0. Average score (19.766666666666666)\n",
      "Win/lose count 19.0/4.0. Average score (19.612903225806452)\n",
      "Final score: 19.612903225806452\n"
     ]
    }
   ],
   "source": [
    "# Evaluation\n",
    "test(agent,env,epochs=31,prefix='cnn_optimized')"
   ]
  },
  {
   "cell_type": "markdown",
   "metadata": {},
   "source": [
    "An epoch where the agent collects all bonuses:"
   ]
  },
  {
   "cell_type": "code",
   "execution_count": 32,
   "metadata": {},
   "outputs": [
    {
     "data": {
      "text/html": [
       "<video alt=\"test\" controls>\n",
       "                <source src=\"data:video/mp4;base64,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\" type=\"video/mp4\" />\n",
       "             </video>"
      ],
      "text/plain": [
       "<IPython.core.display.HTML object>"
      ]
     },
     "execution_count": 32,
     "metadata": {},
     "output_type": "execute_result"
    }
   ],
   "source": [
    "HTML(display_videos('cnn_optimized16.mp4'))"
   ]
  },
  {
   "cell_type": "markdown",
   "metadata": {},
   "source": [
    "An epoch where the agent collects almost all bonuses without stepping on any malus:"
   ]
  },
  {
   "cell_type": "code",
   "execution_count": 33,
   "metadata": {},
   "outputs": [
    {
     "data": {
      "text/html": [
       "<video alt=\"test\" controls>\n",
       "                <source src=\"data:video/mp4;base64,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\" type=\"video/mp4\" />\n",
       "             </video>"
      ],
      "text/plain": [
       "<IPython.core.display.HTML object>"
      ]
     },
     "execution_count": 33,
     "metadata": {},
     "output_type": "execute_result"
    }
   ],
   "source": [
    "HTML(display_videos('cnn_optimized24.mp4'))"
   ]
  },
  {
   "cell_type": "markdown",
   "metadata": {},
   "source": [
    "***\n",
    "***\n",
    "__BONUS question__ Use the expert DQN from the previous question to generate some winning games. Train a model that mimicks its behavior. Compare the performances."
   ]
  },
  {
   "cell_type": "markdown",
   "metadata": {},
   "source": [
    "***"
   ]
  }
 ],
 "metadata": {
  "kernelspec": {
   "display_name": "Python 3",
   "language": "python",
   "name": "python3"
  },
  "language_info": {
   "codemirror_mode": {
    "name": "ipython",
    "version": 3
   },
   "file_extension": ".py",
   "mimetype": "text/x-python",
   "name": "python",
   "nbconvert_exporter": "python",
   "pygments_lexer": "ipython3",
   "version": "3.7.4"
  }
 },
 "nbformat": 4,
 "nbformat_minor": 2
}
